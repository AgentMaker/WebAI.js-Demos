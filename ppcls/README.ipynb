{
 "cells": [
  {
   "cell_type": "markdown",
   "metadata": {},
   "source": [
    "# 简介\n",
    "* 本教程将介绍如何使用 PaddleClas 套件导出推理模型并使用 WebAI.js 部署到网页前端"
   ]
  },
  {
   "cell_type": "markdown",
   "metadata": {},
   "source": [
    "## 1. 同步代码\n",
    "* 从 Github 或 Gitee 上克隆 PaddleClas 代码"
   ]
  },
  {
   "cell_type": "code",
   "execution_count": null,
   "metadata": {
    "collapsed": false,
    "jupyter": {
     "outputs_hidden": false
    },
    "scrolled": true
   },
   "outputs": [],
   "source": [
    "!git clone https://gitee.com/PaddlePaddle/PaddleClas --depth 1"
   ]
  },
  {
   "cell_type": "markdown",
   "metadata": {},
   "source": [
    "## 2. 导出 Paddle 推理模型\n",
    "* 推理脚本位于 PaddleClas/tools/export_model.py\n",
    "* 更多更详细的使用方法可参考 PaddleClas 官方文档 PaddleClas/docs/zh_CN/inference_deployment/export_model.md\n",
    "* 作为演示，所以使用官方文档中提供的示例模型进行模型导出"
   ]
  },
  {
   "cell_type": "markdown",
   "metadata": {},
   "source": [
    "### 2.1 切换工作目录"
   ]
  },
  {
   "cell_type": "code",
   "execution_count": null,
   "metadata": {
    "collapsed": false,
    "jupyter": {
     "outputs_hidden": false
    },
    "scrolled": true
   },
   "outputs": [],
   "source": [
    "%cd PaddleClas"
   ]
  },
  {
   "cell_type": "markdown",
   "metadata": {},
   "source": [
    "### 2.2 下载官方提供的预训练模型"
   ]
  },
  {
   "cell_type": "code",
   "execution_count": null,
   "metadata": {
    "collapsed": false,
    "jupyter": {
     "outputs_hidden": false
    },
    "scrolled": true
   },
   "outputs": [],
   "source": [
    "!wget -P ./cls_pretrain/ https://paddle-imagenet-models-name.bj.bcebos.com/dygraph/legendary_models/ResNet50_vd_pretrained.pdparams"
   ]
  },
  {
   "cell_type": "markdown",
   "metadata": {},
   "source": [
    "### 2.3 导出 Paddle 格式的推理模型\n",
    "* 使用脚本时通过命令行参数指定模型的配置文件、预训练模型、保存目录和当前运行的设备类型"
   ]
  },
  {
   "cell_type": "code",
   "execution_count": null,
   "metadata": {
    "collapsed": false,
    "jupyter": {
     "outputs_hidden": false
    },
    "scrolled": true
   },
   "outputs": [],
   "source": [
    "!python tools/export_model.py \\\n",
    "    -c ./ppcls/configs/ImageNet/ResNet/ResNet50_vd.yaml \\\n",
    "    -o Global.pretrained_model=./cls_pretrain/ResNet50_vd_pretrained \\\n",
    "    -o Global.save_inference_dir=./deploy/models/class_ResNet50_vd_ImageNet_infer \\\n",
    "    -o Global.device=cpu"
   ]
  },
  {
   "cell_type": "markdown",
   "metadata": {},
   "source": [
    "## 3. 转换为 ONNX 模型"
   ]
  },
  {
   "cell_type": "markdown",
   "metadata": {},
   "source": [
    "### 3.1 安装 Paddle2ONNX"
   ]
  },
  {
   "cell_type": "code",
   "execution_count": null,
   "metadata": {
    "scrolled": true
   },
   "outputs": [],
   "source": [
    "!pip install paddle2onnx"
   ]
  },
  {
   "cell_type": "markdown",
   "metadata": {},
   "source": [
    "### 3.2 模型转换\n",
    "* 使用命令行 paddle2onnx 命令进行模型转换\n",
    "* 使用时通过命令行参数指定 Paddle 推理模型的模型路径、模型文件名、参数文件名、保存文件路径和 ONNX 算子集的版本\n"
   ]
  },
  {
   "cell_type": "code",
   "execution_count": null,
   "metadata": {
    "scrolled": true
   },
   "outputs": [],
   "source": [
    "!paddle2onnx \\\n",
    "    --model_dir=./deploy/models/class_ResNet50_vd_ImageNet_infer \\\n",
    "    --model_filename=inference.pdmodel \\\n",
    "    --params_filename=inference.pdiparams \\\n",
    "    --save_file=./deploy/models/class_ResNet50_vd_ImageNet_infer/model.onnx \\\n",
    "    --opset_version=12"
   ]
  },
  {
   "cell_type": "markdown",
   "metadata": {},
   "source": [
    "## 4. 生成配置文件\n"
   ]
  },
  {
   "cell_type": "markdown",
   "metadata": {},
   "source": [
    "### 4.1 使用配置文件转换器\n",
    "* WebAI 的体验网站中包含一个配置文件转换生成器\n",
    "* 可通过这个程序快速将 PaddleClas 的配置文件转换为 WebAI.js 推理所需的配置文件\n",
    "* 转换器目前仍在持续开发中，目前可能无法兼容所有 PaddleClas 的配置文件\n",
    "\n"
   ]
  },
  {
   "cell_type": "markdown",
   "metadata": {},
   "source": [
    "### 4.2 手动编写配置文件\n",
    "* 当然也可以手动编写一个模型配置文件，配置文件样例如下：\n",
    "\n",
    "    ```json\n",
    "    // configs.json\n",
    "    {\n",
    "        \"Preprocess\": [\n",
    "            {\n",
    "                \"type\": \"Decode\", // 图像解码\n",
    "                \"mode\": \"RGB\" // RGB 或 BGR\n",
    "            },\n",
    "            {\n",
    "                \"type\": \"Resize\", //  图像缩放\n",
    "                \"interp\": 1, // 插值方式\n",
    "                \"keep_ratio\": false, // 保持长宽比\n",
    "                \"limit_max\": false, // 限制图片的最大尺寸\n",
    "                \"target_size\": [300, 300] // 目标尺寸 [H, W]\n",
    "            },\n",
    "            /*\n",
    "            {\n",
    "                \"type\": \"Crop\", // 图像中心裁切\n",
    "                \"crop_size\": [224, 224] // 目标尺寸 [H, W]\n",
    "            },\n",
    "            */\n",
    "            {\n",
    "                \"type\": \"Normalize\", // 归一化\n",
    "                \"is_scale\": false, // 是否缩放 (img /= 255.0)\n",
    "                \"mean\": [127.5, 127.5, 127.5], // 均值\n",
    "                \"std\": [127.5, 127.5, 127.5] // 标准差\n",
    "            },\n",
    "            {\n",
    "                \"type\": \"Permute\" // 转置 (HWC -> CHW)\n",
    "            }\n",
    "        ],\n",
    "        \"label_list\": [\n",
    "            \"aeroplane\", \"bicycle\", \"bird\", \"boat\", \"bottle\", \"bus\", \"car\", \n",
    "            \"cat\", \"chair\", \"cow\", \"diningtable\", \"dog\", \"horse\", \"motorbike\", \n",
    "            \"person\", \"pottedplant\", \"sheep\", \"sofa\", \"train\", \"tvmonitor\"\n",
    "        ] // 标签列表\n",
    "    }\n",
    "    ```"
   ]
  }
 ],
 "metadata": {
  "kernelspec": {
   "display_name": "Python 3",
   "language": "python",
   "name": "py35-paddle1.2.0"
  },
  "language_info": {
   "codemirror_mode": {
    "name": "ipython",
    "version": 3
   },
   "file_extension": ".py",
   "mimetype": "text/x-python",
   "name": "python",
   "nbconvert_exporter": "python",
   "pygments_lexer": "ipython3",
   "version": "3.7.4"
  }
 },
 "nbformat": 4,
 "nbformat_minor": 4
}
